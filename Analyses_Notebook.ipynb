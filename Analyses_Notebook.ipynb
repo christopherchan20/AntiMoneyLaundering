{
 "cells": [
  {
   "cell_type": "markdown",
   "id": "385ea199",
   "metadata": {
    "id": "385ea199"
   },
   "source": [
    "# Appendix B (Code)"
   ]
  },
  {
   "cell_type": "markdown",
   "id": "250776ae",
   "metadata": {},
   "source": [
    "## Load Dataset in Graph Form:"
   ]
  },
  {
   "cell_type": "markdown",
   "id": "f3938658",
   "metadata": {
    "id": "f3938658"
   },
   "source": [
    "Upload the files located in the Graph_Data folder to the notebook before running!"
   ]
  },
  {
   "cell_type": "markdown",
   "id": "57c6c895",
   "metadata": {
    "id": "57c6c895"
   },
   "source": [
    "## Code:"
   ]
  },
  {
   "cell_type": "markdown",
   "id": "bd1bd56d",
   "metadata": {
    "id": "bd1bd56d"
   },
   "source": [
    "###  Imports, Configuration, Loading the dataset:"
   ]
  },
  {
   "cell_type": "code",
   "execution_count": 1,
   "id": "b0922b01",
   "metadata": {
    "id": "b0922b01"
   },
   "outputs": [],
   "source": [
    "import pandas as pd\n",
    "import pyarrow"
   ]
  },
  {
   "cell_type": "code",
   "execution_count": 2,
   "id": "b4e1b222",
   "metadata": {
    "id": "b4e1b222"
   },
   "outputs": [],
   "source": [
    "# constants:\n",
    "DATASET = 'HI-Small_Trans' \n",
    "# Reasoning behind dataset choice: Higher illicit rate allows easier training,\n",
    "# while smaller size requires less computating resources.\n",
    "\n",
    "# Paths of data files:\n",
    "# File organization Path constant:\n",
    "PATH = './'\n",
    "# Feather format to improve load times and allow for easier training:\n",
    "FORMAT = '.feather'\n",
    "# Resulting dataset paths:\n",
    "nodes_path = PATH + DATASET + '_nodes' + FORMAT\n",
    "bank_bounds_path = PATH + DATASET + '_bank_bounds' + FORMAT\n",
    "edges_path = PATH + DATASET + '_edges' + FORMAT\n",
    "ys_path = PATH + DATASET + '_ys' + FORMAT\n",
    "subgraphs_path = PATH + DATASET + '_subgraphs' + FORMAT"
   ]
  },
  {
   "cell_type": "code",
   "execution_count": 3,
   "id": "ffa84362",
   "metadata": {
    "id": "ffa84362"
   },
   "outputs": [],
   "source": [
    "import graphviz\n",
    "import dask.dataframe as dd\n",
    "# Load Data:\n",
    "# nodes_df contains nodes indexed in order by both bank and account:\n",
    "nodes_df = dd.from_pandas(pd.read_feather(nodes_path),npartitions=32).compute()\n",
    "# banks_df contains the associated lower bound and upper bound on the index of a node when provided with a bank:\n",
    "banks_df = dd.from_pandas(pd.read_feather(bank_bounds_path).set_index('id'), npartitions=32).compute()\n",
    "# edges_df contains the edge information for any transaction, with index pointers to its start and end nodes\n",
    "edges_df = dd.from_pandas(pd.read_feather(edges_path), npartitions=32).compute()\n",
    "# ys_df contains the desired information to predict, whether or not a transaction is Money Laundering:\n",
    "ys_df = dd.from_pandas(pd.read_feather(ys_path), npartitions=32).compute()\n",
    "# subgraphs_df contains the subgraph information:\n",
    "subgraphs_df = dd.from_pandas(pd.read_feather(subgraphs_path), npartitions=32).compute()"
   ]
  },
  {
   "cell_type": "markdown",
   "id": "73f50a58",
   "metadata": {
    "id": "73f50a58"
   },
   "source": [
    "## Efficient search capability for the index of a node:"
   ]
  },
  {
   "cell_type": "code",
   "execution_count": 4,
   "id": "7a03b9d8",
   "metadata": {
    "id": "7a03b9d8"
   },
   "outputs": [],
   "source": [
    "def get_node_index(bank, acc):\n",
    "    # Get inclusive bounds on index:\n",
    "    [lb, ub] = banks_df.loc[bank][['lb', 'ub']]\n",
    "    # While lower bound is less than upper bound, the node hasn't been found:\n",
    "    while lb < ub:\n",
    "        # Current index is the average of the lower and upper bound, rounded down:\n",
    "        i = round((lb+ub)/2)\n",
    "        # if current node acc is less than the desired node acc:\n",
    "        if nodes_df.iloc[i]['Account'] < acc:\n",
    "            # Then any nodes between lb and i inclusive's acc are less than acc, so:\n",
    "            lb = i + 1\n",
    "        # else if current node matches desired node, return i as node has been found:\n",
    "        elif nodes_df.iloc[i]['Account'] == acc:\n",
    "            return i\n",
    "        # otherwise current node acc is greater than desired node acc:\n",
    "        else:\n",
    "            ub = i - 1\n",
    "    # Make sure the current node matches the desired node:\n",
    "    i = int((lb+ub)/2 - (lb+ub)%2)\n",
    "    if int(nodes_df.iloc[i]['Bank']) == int(bank) and int(nodes_df.iloc[i]['Account'] == acc):\n",
    "        return i\n",
    "    # Throw an error otherwise:\n",
    "    else:\n",
    "        print(lb, ub)\n",
    "        raise Exception('NodeNotFound')"
   ]
  },
  {
   "cell_type": "markdown",
   "id": "745cd5f9",
   "metadata": {
    "id": "745cd5f9"
   },
   "source": [
    "### Tests for the above function:"
   ]
  },
  {
   "cell_type": "code",
   "execution_count": 5,
   "id": "b7db25ab",
   "metadata": {
    "colab": {
     "base_uri": "https://localhost:8080/"
    },
    "id": "b7db25ab",
    "outputId": "d1e4de86-6a67-42a0-e5c3-f93a59cbc4df"
   },
   "outputs": [
    {
     "name": "stdout",
     "output_type": "stream",
     "text": [
      "passed 10000 random tests\n"
     ]
    }
   ],
   "source": [
    " import numpy as np\n",
    " def run_tests(num_tests=10000):\n",
    "     for i in np.random.randint(low=0,high=len(nodes_df),size=num_tests):\n",
    "         node = nodes_df.iloc[i]\n",
    "         assert (get_node_index(int(node['Bank']), str(node['Account'])) == i)\n",
    "     print('passed', num_tests,'random tests')\n",
    " run_tests()"
   ]
  },
  {
   "cell_type": "markdown",
   "id": "c8720b47",
   "metadata": {
    "id": "c8720b47"
   },
   "source": [
    "## Generate a visualization of the initial examples provided:"
   ]
  },
  {
   "cell_type": "code",
   "execution_count": 6,
   "id": "87bf05c8",
   "metadata": {
    "colab": {
     "base_uri": "https://localhost:8080/",
     "height": 35
    },
    "id": "87bf05c8",
    "outputId": "6db71b00-3441-4ec0-8616-e1612fea85bc"
   },
   "outputs": [
    {
     "name": "stderr",
     "output_type": "stream",
     "text": [
      "\r\n",
      "(process:1552): GLib-GIO-WARNING **: 13:05:14.129: Unexpectedly, UWP app `Clipchamp.Clipchamp_2.5.15.0_neutral__yxz26nhyzhsrt' (AUMId `Clipchamp.Clipchamp_yxz26nhyzhsrt!App') supports 41 extensions but has no verbs\r\n",
      "\r\n",
      "(process:1552): GLib-GIO-WARNING **: 13:05:14.521: Unexpectedly, UWP app `Microsoft.ScreenSketch_11.2303.17.0_x64__8wekyb3d8bbwe' (AUMId `Microsoft.ScreenSketch_8wekyb3d8bbwe!App') supports 29 extensions but has no verbs\r\n"
     ]
    },
    {
     "data": {
      "text/plain": [
       "'illicit_transaction_example_graph.pdf'"
      ]
     },
     "execution_count": 6,
     "metadata": {},
     "output_type": "execute_result"
    }
   ],
   "source": [
    " import graphviz\n",
    "\n",
    " # Load file containing laundering attempts done under certain known patterns:\n",
    " laundering_attempts = pd.Series([i for i in open('./HI-Small_Patterns.txt')])\n",
    " # Remove unnecessary newline symbols:\n",
    " laundering_attempts = laundering_attempts.map(lambda s: s.replace('\\n', ''))\n",
    " # Remove empty lines:\n",
    " laundering_attempts = laundering_attempts[laundering_attempts.map(lambda s: s != '')].reset_index(drop=True)\n",
    " # Format of lines that denote the start of a laundering attempt:\n",
    " beginining_format='BEGIN LAUNDERING ATTEMPT'\n",
    " # Format of lines that denote the end of a laundering attempt:\n",
    " ending_format='END LAUNDERING ATTEMPT'\n",
    "\n",
    " # Accumulators:\n",
    " beginings = []\n",
    " endings = []\n",
    " # Get indices of lines denoting starts and ends of laundering attempts\n",
    " for i, v in laundering_attempts.items():\n",
    "   if beginining_format in v:\n",
    "     beginings += [i]\n",
    "   elif ending_format in v:\n",
    "     endings += [i]\n",
    " # Show that length is the same:\n",
    " assert len(beginings) == len(endings), 'INCORRECT FORMAT'\n",
    "\n",
    " # Organize the lines by which laundering attempts they belong to\n",
    " temp = []\n",
    " for i in range(len(beginings)):\n",
    "   start = beginings[i]\n",
    "   end = endings[i]\n",
    "   temp += [laundering_attempts.iloc[start:end+1]]\n",
    " laundering_attempts = temp\n",
    "\n",
    " # Generate a Digraph render of the graph that consists of the transactions\n",
    " # within the file, and right to pdf:\n",
    " dot = graphviz.Digraph()\n",
    " for laundering_attempt in laundering_attempts:\n",
    "   transactions = laundering_attempt.iloc[1:-1]\n",
    "   for transaction in transactions:\n",
    "     values = transaction.split(',')\n",
    "     start = str(get_node_index(int(values[1]), values[2]))\n",
    "     end = str(get_node_index(int(values[3]), values[4]))\n",
    "     dot.node(start)\n",
    "     dot.node(end)\n",
    "     dot.edge(start, end)\n",
    " dot.render('illicit_transaction_example_graph',format='pdf')"
   ]
  },
  {
   "cell_type": "markdown",
   "id": "SGjk9muA7Ynh",
   "metadata": {
    "id": "SGjk9muA7Ynh"
   },
   "source": [
    "## Split into subgraphs, add relevant data:"
   ]
  },
  {
   "cell_type": "code",
   "execution_count": 7,
   "id": "4tOWPTrf7T8n",
   "metadata": {
    "colab": {
     "base_uri": "https://localhost:8080/"
    },
    "id": "4tOWPTrf7T8n",
    "outputId": "64a801de-8caa-4b08-fcf8-df43d4bce0c8"
   },
   "outputs": [
    {
     "name": "stdout",
     "output_type": "stream",
     "text": [
      "finding transaction partners. This will likely take a couple minutes.\n",
      "processing nodes_df will require 515088 iterations. This will likely take a couple minutes.\n",
      "finished!\n",
      "total nodes: 515088\n",
      "total subgraphs: 114139\n",
      "total nodes in subgraphs (should match total nodes): 515088\n",
      "sorting subgraphs\n",
      "Making changes to nodes\n",
      "Making changes to edges\n",
      "Updating subgraph data\n",
      "writing changes\n",
      "done\n"
     ]
    }
   ],
   "source": [
    " # finding transaction partners of each node:\n",
    " print('finding transaction partners. This will likely take a couple minutes.')\n",
    " transaction_partners = []\n",
    " for i in range(len(nodes_df)):\n",
    "     transaction_partners += [set([])]\n",
    "\n",
    " # Add transaction partners according to the edge\n",
    " def process_edge(edge, transaction_partners):\n",
    "     s, e = edge['Start Node'], edge['End Node']\n",
    "     transaction_partners[s].add(e)\n",
    "     transaction_partners[e].add(s)\n",
    "\n",
    " # Make a call for each edge to be processed:\n",
    " dd.from_pandas(edges_df, npartitions=32).apply(\n",
    "     lambda e: process_edge(e, transaction_partners),\n",
    "     meta=(None, 'object'),\n",
    "     axis=1\n",
    " ).compute()\n",
    " nodes_df['transaction partners'] = transaction_partners\n",
    "\n",
    " print(\n",
    "     'processing nodes_df will require',\n",
    "     len(nodes_df),\n",
    "     'iterations. This will likely take a couple minutes.'\n",
    " )\n",
    "\n",
    " nodes_df['addable'] = True\n",
    "\n",
    " def split_graph():\n",
    "     # subgraphs is an accumulator array for sets of nodes that make\n",
    "     # up disconnected subgraphs within the dataset:\n",
    "     subgraphs = []\n",
    "     # current index counter:\n",
    "     i = 0\n",
    "     # current subgraph initial value:\n",
    "     subgraph = []\n",
    "     # horizon for the current subgraph:\n",
    "     horizon = list()\n",
    "     # settled nodes for the current subgraph:\n",
    "     settled = []\n",
    "     # While there are nodes that are not yet accounted for:\n",
    "     while True:\n",
    "         # if no nodes are in the horizon:\n",
    "         if len(horizon) == 0:\n",
    "             # if there are nodes in the subgraph:\n",
    "             if len(subgraph) > 0:\n",
    "                 # add the current subgraph to the list of subgraphs:\n",
    "                 subgraphs += [subgraph.copy()]\n",
    "             # Make a new list of subgraphs:\n",
    "             subgraph = []\n",
    "             # increment check index until the current node is addable to the horizon:\n",
    "             while not nodes_df.loc[i,'addable']:\n",
    "                 i += 1\n",
    "                 # if i has exited the index of nodes_df, then all nodes are not addable,\n",
    "                 # so finish:\n",
    "                 if i == len(nodes_df):\n",
    "                     return subgraphs\n",
    "             # add the current node to the list of horizon nodes to process:\n",
    "             horizon.append(i)\n",
    "             # mark the current node as no longer being addable:\n",
    "             nodes_df.loc[i, 'addable'] = False\n",
    "         # get the current node:\n",
    "         curr = horizon.pop()\n",
    "         # add the current node to the subgraph:\n",
    "         subgraph += [curr]\n",
    "         # add all addable transaction partners of the node to the list of horizon nodes to process\n",
    "         # and mark them as no longer being addable:\n",
    "         for partner in nodes_df.loc[curr, 'transaction partners']:\n",
    "             if nodes_df.loc[partner, 'addable']:\n",
    "                 horizon.append(partner)\n",
    "                 nodes_df.loc[partner,'addable'] = False\n",
    "\n",
    " subgraphs = split_graph()\n",
    "\n",
    " print('finished!')\n",
    " print('total nodes:', len(nodes_df))\n",
    " print('total subgraphs:', len(subgraphs))\n",
    " print(\n",
    "     'total nodes in subgraphs (should match total nodes):',\n",
    "     sum([len(subgraph) for subgraph in subgraphs])\n",
    " )\n",
    "\n",
    " subgraphs = pd.DataFrame({'nodes' : subgraphs})\n",
    "\n",
    " print('sorting subgraphs')\n",
    " # mapping subgraphs to series:\n",
    " subgraphs['nodes'] = subgraphs['nodes'].map(\n",
    "     lambda ls: pd.Series(ls).sort_values().reset_index(drop=True)\n",
    " )\n",
    "\n",
    " print('Making changes to nodes')\n",
    " subgraph_ids = subgraphs['nodes'].explode()\n",
    " temp = pd.Series(subgraph_ids.index.tolist(), index = subgraph_ids.values.tolist())\n",
    " subgraph_ids = pd.Series(nodes_df.index.tolist())\n",
    " nodes_df['subgraph'] = subgraph_ids.map(lambda x: temp[x])\n",
    " # remove redundant column:\n",
    " nodes_df = nodes_df.drop(columns=['addable'])\n",
    "\n",
    " print('Making changes to edges')\n",
    " # map subgraph back to edges from nodes:\n",
    " edges_df['subgraph'] = edges_df['Start Node'].map(lambda n: nodes_df.loc[n,'subgraph'])\n",
    "\n",
    " print('Updating subgraph data')\n",
    " # Re-map subgraphs['nodes'] column to lists:\n",
    " subgraphs['nodes'] = subgraphs['nodes'].map(lambda ser: ser.values.tolist())\n",
    " # Get edge indices and number of edges and nodes for each subgraph:\n",
    " grouped_temp = edges_df.reset_index().groupby('subgraph')\n",
    " edge_count = grouped_temp['index'].count()\n",
    " subgraphs['num_edges'] = grouped_temp['index'].count()\n",
    " subgraphs['edges'] = grouped_temp['index'].apply(lambda g: g.values.tolist())\n",
    " subgraphs['num_nodes'] = subgraphs['nodes'].map(lambda x:len(x))\n",
    "\n",
    " # write changes to file:\n",
    " print('writing changes')\n",
    " subgraphs.to_feather(subgraphs_path)\n",
    " nodes_df.to_feather(nodes_path)\n",
    " edges_df.to_feather(edges_path)\n",
    " print('done')"
   ]
  },
  {
   "cell_type": "markdown",
   "id": "r9u02kUmDG9Q",
   "metadata": {
    "id": "r9u02kUmDG9Q"
   },
   "source": [
    "## Get change in accounts for nodes:"
   ]
  },
  {
   "cell_type": "code",
   "execution_count": 8,
   "id": "PGkHzUMdzcSb",
   "metadata": {
    "id": "PGkHzUMdzcSb"
   },
   "outputs": [],
   "source": [
    " import numpy as np\n",
    " currencies = list(\n",
    "     set(\n",
    "         edges_df['Receiving Currency'].tolist() +\n",
    "         edges_df['Payment Currency'].tolist()\n",
    "     )\n",
    " )\n",
    " num_currencies = len(list(set(currencies)))\n",
    " num_nodes = len(nodes_df)\n",
    " temp = np.zeros(shape=(num_nodes, num_currencies))\n",
    " c = {}\n",
    " c_rev = {}\n",
    " for i in range(len(currencies)):\n",
    "   c[currencies[i]] = i\n",
    "   c_rev[i] = currencies[i]\n",
    " def handle_edge(e):\n",
    "   temp[e['Start Node'], c[e['Payment Currency']]] += e['Amount Paid']\n",
    "   temp[e['End Node'], c[e['Receiving Currency']]] -= e['Amount Received']\n",
    " dd.from_pandas(edges_df, npartitions=32).apply(\n",
    "     handle_edge, axis=1, meta=(None,'object')\n",
    " ).compute()\n",
    " deltas = pd.DataFrame(temp).rename(columns=c_rev)\n",
    " for col in deltas.columns:\n",
    "   nodes_df['Delta ' + col] = deltas[col]\n",
    " nodes_df.to_feather(nodes_path)"
   ]
  },
  {
   "cell_type": "code",
   "execution_count": 9,
   "id": "71110b2b",
   "metadata": {
    "colab": {
     "base_uri": "https://localhost:8080/"
    },
    "id": "71110b2b",
    "outputId": "7d0f7a13-f9d1-4321-a87b-45f754d3aed0"
   },
   "outputs": [
    {
     "data": {
      "text/plain": [
       "array(['Reinvestment', 'Cheque', 'Credit Card', 'ACH', 'Cash', 'Wire',\n",
       "       'Bitcoin'], dtype=object)"
      ]
     },
     "execution_count": 9,
     "metadata": {},
     "output_type": "execute_result"
    }
   ],
   "source": [
    "edges_df['Payment Format'].unique()"
   ]
  },
  {
   "cell_type": "markdown",
   "id": "rEdifkgMoEkv",
   "metadata": {
    "id": "rEdifkgMoEkv"
   },
   "source": [
    "## Making final transformations to obtain a singular final dataframe:"
   ]
  },
  {
   "cell_type": "code",
   "execution_count": 10,
   "id": "wmQ--zn7DZH-",
   "metadata": {
    "id": "wmQ--zn7DZH-"
   },
   "outputs": [],
   "source": [
    "import numpy as np\n",
    "from sklearn.model_selection import train_test_split\n",
    "from sklearn.linear_model import LogisticRegression\n",
    "from sklearn.metrics import balanced_accuracy_score\n",
    "# Convert Timestamp entries todatetime representation:\n",
    "edges_df['Timestamp'] = pd.to_datetime(edges_df['Timestamp'])\n",
    "# Get all unique transaction times in order:\n",
    "temp = pd.Series(edges_df['Timestamp'].unique()).sort_values().reset_index(drop=True)\n",
    "# Get the first time in the dataset:\n",
    "min_time = min(temp)\n",
    "# define a temporary series that can be used to map times to numerical values:\n",
    "temp = pd.Series(\n",
    "    temp.map(\n",
    "        lambda t: (t - min_time)/np.timedelta64(1,'s')\n",
    "    ).values.tolist(), \n",
    "    index = temp.map(lambda t: str(t)).values.tolist()\n",
    ")\n",
    "# convert Timestamp entries to numerical values:\n",
    "edges_df['Timestamp'] = edges_df['Timestamp'].map(lambda t: temp[str(t)])\n",
    "# Make final_df, a dataframe for containing all info in the end:\n",
    "final_df = edges_df.copy()\n",
    "# Remove this column from being added as we dont want to add it again:\n",
    "temp = nodes_df.drop(columns=['subgraph'])\n",
    "# Add columns containing information about the Start Node to the matrix:\n",
    "final_df = final_df.join(\n",
    "    temp,\n",
    "    on='Start Node',\n",
    "    how='left'\n",
    ")\n",
    "# Add columns containing information about the End Node to the matrix:\n",
    "final_df = final_df.join(\n",
    "    temp,\n",
    "    on='End Node',\n",
    "    how='left',\n",
    "    lsuffix=' End',\n",
    "    rsuffix=' Start'\n",
    ")\n",
    "\n",
    "# remove unwanted columns from final_df:\n",
    "drop_columns = [\n",
    "    'Payment Currency',\n",
    "    'Receiving Currency',\n",
    "    'Account End',\n",
    "    'Account Start',\n",
    "    'transaction partners End',\n",
    "    'transaction partners Start'\n",
    "]\n",
    "# transform payment format into boolean features:\n",
    "for form in final_df['Payment Format'].unique():\n",
    "    final_df[form] = final_df['Payment Format'].map(lambda s: s == form)\n",
    "final_df = final_df.drop(columns = ['Payment Format'])\n",
    "final_df = final_df.drop(columns=drop_columns)\n",
    "\n",
    "Y_col = 'Is Laundering'\n",
    "# Add y column to final_df:\n",
    "final_df[Y_col] = ys_df[Y_col]"
   ]
  },
  {
   "cell_type": "markdown",
   "id": "CiQBdJbioCvl",
   "metadata": {
    "id": "CiQBdJbioCvl"
   },
   "source": [
    "## Tests for Decision Tree Classifier Fitting"
   ]
  },
  {
   "cell_type": "markdown",
   "id": "Ci-XH_nRoes3",
   "metadata": {
    "id": "Ci-XH_nRoes3"
   },
   "source": [
    "Due to the highly unbalanced nature of the dataset, if the scoring while training the model was not adjusted to account for the low likelihood of a transaction being a money laundering attempt, then the model would not ever predict that a transaction was money laundering. As such, we train using the balanced accuracy score as our training metric in order to obtain some actual predictions."
   ]
  },
  {
   "cell_type": "markdown",
   "id": "WZNO8zsxpFxN",
   "metadata": {
    "id": "WZNO8zsxpFxN"
   },
   "source": [
    "The cell below fits 100 different decision tree classifiers to samples from the dataset and averages the resulting balanced accuracy score in order to obtain an idea of what sort of starting score we are looking at for our model."
   ]
  },
  {
   "cell_type": "code",
   "execution_count": 11,
   "id": "U18PequAIeww",
   "metadata": {
    "colab": {
     "base_uri": "https://localhost:8080/"
    },
    "id": "U18PequAIeww",
    "outputId": "90b2f73f-6076-4673-b157-a467713956ae"
   },
   "outputs": [
    {
     "name": "stdout",
     "output_type": "stream",
     "text": [
      "average balanced accuracy score: 0.6036636688889316\n"
     ]
    }
   ],
   "source": [
    "from sklearn.tree import DecisionTreeClassifier\n",
    "# specify number of times to run:\n",
    "num_tests=100\n",
    "# make accumulators:\n",
    "balanced_scores = []\n",
    "models = []\n",
    "# specify size of sample to draw each time:\n",
    "sample_size=1000000\n",
    "for i in range(num_tests):\n",
    "    # take a subset of transactions and split them into a train and test set:\n",
    "    train, test = train_test_split(final_df.sample(sample_size), test_size=0.3)\n",
    "    # separate columns and matrixes for fitting decision tree:\n",
    "    X_cols = list(final_df.columns[:-1])\n",
    "    X_train, X_test = train[X_cols], test[X_cols]\n",
    "    Y_train, Y_test = train[Y_col], test[Y_col]\n",
    "    # fit the decision tree:\n",
    "    model = DecisionTreeClassifier(class_weight='balanced').fit(X_train, Y_train)\n",
    "    # append the model and the balanced accuracy score:\n",
    "    models += [model]\n",
    "    balanced_scores += [balanced_accuracy_score(model.predict(X_test), Y_test)]\n",
    "results = pd.Series(balanced_scores)\n",
    "print('average balanced accuracy score:', results.mean())"
   ]
  },
  {
   "cell_type": "markdown",
   "id": "zGi5nCoZpEm2",
   "metadata": {
    "id": "zGi5nCoZpEm2"
   },
   "source": [
    "## Making Improvements:"
   ]
  },
  {
   "cell_type": "markdown",
   "id": "l69HnA7EpaZy",
   "metadata": {
    "id": "l69HnA7EpaZy"
   },
   "source": [
    "The cell below first transforms X with PCA, before fitting the decision tree."
   ]
  },
  {
   "cell_type": "code",
   "execution_count": 15,
   "id": "65291b7b",
   "metadata": {},
   "outputs": [
    {
     "name": "stderr",
     "output_type": "stream",
     "text": [
      "C:\\Users\\chris\\anaconda3\\envs\\ORIE4741\\lib\\site-packages\\sklearn\\base.py:432: UserWarning: X has feature names, but PCA was fitted without feature names\n",
      "  warnings.warn(\n",
      "C:\\Users\\chris\\anaconda3\\envs\\ORIE4741\\lib\\site-packages\\sklearn\\base.py:432: UserWarning: X has feature names, but PCA was fitted without feature names\n",
      "  warnings.warn(\n"
     ]
    },
    {
     "name": "stdout",
     "output_type": "stream",
     "text": [
      "fitting tree\n",
      "final balanced accuracy score (through 5-fold cross validation): 0.5984658573914015\n"
     ]
    },
    {
     "data": {
      "image/png": "[encoded data removed]",
      "text/plain": [
       "<Figure size 640x480 with 1 Axes>"
      ]
     },
     "metadata": {},
     "output_type": "display_data"
    }
   ],
   "source": [
    "from sklearn.tree import DecisionTreeClassifier\n",
    "from sklearn.decomposition import PCA\n",
    "from sklearn.model_selection import cross_val_score\n",
    "import graphviz\n",
    "from sklearn.tree import export_graphviz\n",
    "from sklearn.preprocessing import  StandardScaler\n",
    "import matplotlib.pyplot as plt\n",
    "\n",
    "# separate columns and matrixes for fitting decision tree:\n",
    "X_cols = list(final_df.columns[:-1])\n",
    "X  = final_df[X_cols]\n",
    "Y = final_df[Y_col]\n",
    "\n",
    "# apply PCA to x\n",
    "    # scale X before PCA\n",
    "scaler = StandardScaler()\n",
    "scaler.fit(X)\n",
    "scaled = scaler.transform(X)\n",
    "    # decompose x according to PCA:\n",
    "pca = PCA()\n",
    "pca.fit(scaled)\n",
    "decomposed = pca.transform(X)\n",
    "    # plot results and select cutoff:\n",
    "threshold = 0.9\n",
    "explained_var = np.cumsum(pca.explained_variance_ratio_)\n",
    "plt.plot(explained_var)\n",
    "selected = min([j for j in range(len(explained_var)) if explained_var[j] > threshold])\n",
    "plt.plot([selected], [explained_var[selected]], '.', label='selected cutoff')\n",
    "plt.xlabel('Number of features')\n",
    "plt.ylabel('Explained Variance')\n",
    "    # redo PCA but only with desired number of components:\n",
    "pca = PCA(n_components=selected)\n",
    "pca.fit(scaled)\n",
    "decomposed = pca.transform(X)\n",
    "# fit the decision tree:\n",
    "print('fitting tree')\n",
    "\n",
    "tree = DecisionTreeClassifier(class_weight='balanced')\n",
    "tree.fit(decomposed, Y)\n",
    "# cross validate\n",
    "print('final balanced accuracy score (through 5-fold cross validation):',cross_val_score(tree, X, Y,\n",
    "            scoring=\"balanced_accuracy\", \n",
    "            cv=5).mean())\n"
   ]
  },
  {
   "cell_type": "code",
   "execution_count": null,
   "id": "451bec40",
   "metadata": {},
   "outputs": [],
   "source": []
  }
 ],
 "metadata": {
  "colab": {
   "provenance": []
  },
  "kernelspec": {
   "display_name": "Python 3 (ipykernel)",
   "language": "python",
   "name": "python3"
  },
  "language_info": {
   "codemirror_mode": {
    "name": "ipython",
    "version": 3
   },
   "file_extension": ".py",
   "mimetype": "text/x-python",
   "name": "python",
   "nbconvert_exporter": "python",
   "pygments_lexer": "ipython3",
   "version": "3.8.16"
  }
 },
 "nbformat": 4,
 "nbformat_minor": 5
}
