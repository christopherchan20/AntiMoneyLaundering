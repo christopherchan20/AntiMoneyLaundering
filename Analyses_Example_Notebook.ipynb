{
 "cells": [
  {
   "cell_type": "code",
   "execution_count": null,
   "id": "ee1f68d8",
   "metadata": {},
   "outputs": [],
   "source": [
    "import pandas as pd\n",
    "import dask.dataframe as dd\n",
    "import os"
   ]
  },
  {
   "cell_type": "markdown",
   "id": "35c1263f",
   "metadata": {},
   "source": [
    "## Loading the files:"
   ]
  },
  {
   "cell_type": "markdown",
   "id": "5d13e744",
   "metadata": {},
   "source": [
    "Even though the data was re-written to the .feather format in order to improve read and write speeds, this will still likely take some time."
   ]
  },
  {
   "cell_type": "code",
   "execution_count": null,
   "id": "07402559",
   "metadata": {},
   "outputs": [],
   "source": [
    "# Setup a Dictionary to store the loaded datasets:\n",
    "DSets = {}\n",
    "\n",
    "# Grab the names of the .csv files to load:\n",
    "files = [name for name in os.listdir('./Data/Processed')]\n",
    "\n",
    "# Use dask to schedule loading the .csv files.\n",
    "for f in files:\n",
    "    DSets[f[:-8]] = pd.read_feather('./Data/Processed/'+f)\n",
    "    print(f, 'loaded!')"
   ]
  },
  {
   "cell_type": "markdown",
   "id": "a4d4f664",
   "metadata": {},
   "source": [
    "Displaying the possible samplesets to use:"
   ]
  },
  {
   "cell_type": "code",
   "execution_count": null,
   "id": "9628f97e",
   "metadata": {},
   "outputs": [],
   "source": [
    "print(DSets.keys().tolist())"
   ]
  },
  {
   "cell_type": "markdown",
   "id": "3a53fb4a",
   "metadata": {},
   "source": [
    "Example sample set:"
   ]
  },
  {
   "cell_type": "code",
   "execution_count": null,
   "id": "6c35ce9b",
   "metadata": {},
   "outputs": [],
   "source": [
    "DSets['LI-Medium_Trans']"
   ]
  }
 ],
 "metadata": {
  "kernelspec": {
   "display_name": "Python 3 (ipykernel)",
   "language": "python",
   "name": "python3"
  },
  "language_info": {
   "codemirror_mode": {
    "name": "ipython",
    "version": 3
   },
   "file_extension": ".py",
   "mimetype": "text/x-python",
   "name": "python",
   "nbconvert_exporter": "python",
   "pygments_lexer": "ipython3",
   "version": "3.8.16"
  }
 },
 "nbformat": 4,
 "nbformat_minor": 5
}
